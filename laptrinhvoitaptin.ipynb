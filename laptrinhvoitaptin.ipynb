{
  "nbformat": 4,
  "nbformat_minor": 0,
  "metadata": {
    "colab": {
      "provenance": [],
      "authorship_tag": "ABX9TyPMo8VPbItiCsT23A/MLFAn",
      "include_colab_link": true
    },
    "kernelspec": {
      "name": "python3",
      "display_name": "Python 3"
    },
    "language_info": {
      "name": "python"
    }
  },
  "cells": [
    {
      "cell_type": "markdown",
      "metadata": {
        "id": "view-in-github",
        "colab_type": "text"
      },
      "source": [
        "<a href=\"https://colab.research.google.com/github/hoangthanhk3/hoangthanhpythonk3/blob/main/laptrinhvoitaptin.ipynb\" target=\"_parent\"><img src=\"https://colab.research.google.com/assets/colab-badge.svg\" alt=\"Open In Colab\"/></a>"
      ]
    },
    {
      "cell_type": "code",
      "execution_count": null,
      "metadata": {
        "id": "8bqmK06kCIzT"
      },
      "outputs": [],
      "source": [
        "x = 'tri tue nhan tao'\n",
        "ten_tap_tin = input('Nhap ten tap tin:')\n",
        "path = 'c:/Users/thanhnt.txt'\n",
        "with open(path, mode='w')as f:\n",
        "  f.writte(x)"
      ]
    },
    {
      "cell_type": "code",
      "source": [
        "ten_tap_tin = input('Nhap ten tap tin:')\n",
        "f = open('C:/Users/thanhnt.txt')\n",
        "print(f.read())"
      ],
      "metadata": {
        "id": "EwBNncmeDbDd"
      },
      "execution_count": null,
      "outputs": []
    },
    {
      "cell_type": "code",
      "source": [
        "ten_tap_tin = input('Nhap ten tap tin:')\n",
        "y = 'ngon ngu lap trinh'\n",
        "f = open('C:/Users/thanhnt.txt','a')\n",
        "f.write(y)"
      ],
      "metadata": {
        "id": "4oJui6uID0C-"
      },
      "execution_count": null,
      "outputs": []
    },
    {
      "cell_type": "code",
      "source": [
        "f = open('C:/Users/thanhnt.txt','r')\n",
        "print(f.read())"
      ],
      "metadata": {
        "id": "twFp1hPQEJBw"
      },
      "execution_count": null,
      "outputs": []
    },
    {
      "cell_type": "code",
      "source": [
        "import random as r\n",
        "def cau_5():\n",
        "   x = r.choices(range(-1000,1001),k=1000)\n",
        "    print('danh sách: ',x)\n",
        "    ten_tap_tin =input(\"Nhap ten tap tin: \")\n",
        "    f=open(ten_tap_tin,\"w\")\n",
        "    a=[]\n",
        "    for i in range(10):\n",
        "        a.append(i)\n",
        "    for i in range(100):\n",
        "        for j in range(10):\n",
        "            a[j]=str(x[i*10+j])\n",
        "        f.write(','.join(a)+\"\\n\")\n",
        "    f.close()\n",
        "    with open(ten_tap_tin,\"r+\") as f:\n",
        "        tep=f.read()\n",
        "        tep=tep.replace(\",\", \"  \")\n",
        "        print(tep)\n",
        "cau_5()"
      ],
      "metadata": {
        "id": "ccBfjitIET7U"
      },
      "execution_count": null,
      "outputs": []
    }
  ]
}